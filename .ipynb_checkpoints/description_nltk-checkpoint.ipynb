{
 "cells": [
  {
   "cell_type": "code",
   "execution_count": 68,
   "metadata": {
    "collapsed": true
   },
   "outputs": [],
   "source": [
    "import pickle\n",
    "import sys\n",
    "import os\n",
    "import pandas as pd\n",
    "import numpy as np\n",
    "from sklearn.metrics import confusion_matrix\n",
    "from sklearn.linear_model import LogisticRegression\n",
    "from sklearn.model_selection import train_test_split\n",
    "from sklearn.metrics import precision_recall_curve\n",
    "# Dependencies\n",
    "import pickle\n",
    "import pandas as pd\n",
    "import numpy as np\n",
    "from sklearn.cluster import KMeans\n",
    "from sklearn.preprocessing import LabelEncoder\n",
    "from sklearn.preprocessing import MinMaxScaler\n",
    "import seaborn as sns\n",
    "import matplotlib.pyplot as plt\n",
    "import nltk\n",
    "import re\n",
    "from sklearn.feature_extraction.text import TfidfVectorizer"
   ]
  },
  {
   "cell_type": "code",
   "execution_count": 2,
   "metadata": {
    "collapsed": true
   },
   "outputs": [
    {
     "name": "stderr",
     "output_type": "stream",
     "text": [
      "C:\\Users\\johd003\\AppData\\Local\\Continuum\\anaconda3\\lib\\site-packages\\IPython\\core\\interactiveshell.py:3020: DtypeWarning: Columns (4,15,50) have mixed types. Specify dtype option on import or set low_memory=False.\n",
      "  interactivity=interactivity, compiler=compiler, result=result)\n"
     ]
    }
   ],
   "source": [
    "reqdf = pd.read_csv(r'C:\\Users\\johd003\\Documents\\GitHub\\data\\reqdata.csv')"
   ]
  },
  {
   "cell_type": "code",
   "execution_count": 3,
   "metadata": {},
   "outputs": [
    {
     "data": {
      "text/plain": [
       "Index(['Administrative Assistant', 'Project Manager', 'Assembly Worker',\n",
       "       'Business/System Analyst', 'Developer', 'Data Entry Operator',\n",
       "       'Systems/Software Engineer', 'IT Analyst', 'Recruiter',\n",
       "       'Graphic Designer', 'Business Analyst', 'Manufacturing Technician',\n",
       "       'Financial Analyst', 'Sales Manager', 'Design Validation Engineer'],\n",
       "      dtype='object')"
      ]
     },
     "execution_count": 3,
     "metadata": {},
     "output_type": "execute_result"
    }
   ],
   "source": [
    "topn_titles = reqdf['Title'].value_counts().nlargest(15).index.astype(list)\n",
    "topn_titles"
   ]
  },
  {
   "cell_type": "code",
   "execution_count": 4,
   "metadata": {},
   "outputs": [
    {
     "data": {
      "text/plain": [
       "5                     Developer\n",
       "6              Business Analyst\n",
       "8                     Developer\n",
       "23              Project Manager\n",
       "44    Systems/Software Engineer\n",
       "Name: Title, dtype: object"
      ]
     },
     "execution_count": 4,
     "metadata": {},
     "output_type": "execute_result"
    }
   ],
   "source": [
    "reqdf_topn_titles = reqdf[reqdf['Title'].isin(topn_titles)]\n",
    "reqdf_topn_titles['Title'].head()"
   ]
  },
  {
   "cell_type": "code",
   "execution_count": 104,
   "metadata": {},
   "outputs": [
    {
     "data": {
      "text/html": [
       "<div>\n",
       "<style scoped>\n",
       "    .dataframe tbody tr th:only-of-type {\n",
       "        vertical-align: middle;\n",
       "    }\n",
       "\n",
       "    .dataframe tbody tr th {\n",
       "        vertical-align: top;\n",
       "    }\n",
       "\n",
       "    .dataframe thead th {\n",
       "        text-align: right;\n",
       "    }\n",
       "</style>\n",
       "<table border=\"1\" class=\"dataframe\">\n",
       "  <thead>\n",
       "    <tr style=\"text-align: right;\">\n",
       "      <th></th>\n",
       "      <th>Title</th>\n",
       "      <th>Description</th>\n",
       "    </tr>\n",
       "  </thead>\n",
       "  <tbody>\n",
       "    <tr>\n",
       "      <th>5</th>\n",
       "      <td>Developer</td>\n",
       "      <td>NTE $100 \\n\\n\\n\\nJOB DESCRIPTION:\\n\\tTHE DATA ...</td>\n",
       "    </tr>\n",
       "    <tr>\n",
       "      <th>6</th>\n",
       "      <td>Business Analyst</td>\n",
       "      <td>JOB DESCRIPTION:\\n\\tTHE DATA PRACTICE WEB DEVE...</td>\n",
       "    </tr>\n",
       "    <tr>\n",
       "      <th>8</th>\n",
       "      <td>Developer</td>\n",
       "      <td>DESCRIPTION:  WORK AS PART OF A BUSINESS SYSTE...</td>\n",
       "    </tr>\n",
       "    <tr>\n",
       "      <th>23</th>\n",
       "      <td>Project Manager</td>\n",
       "      <td>MUST SPEAK VERY GOOD ENGLISH \\n\\nADDITIONAL SK...</td>\n",
       "    </tr>\n",
       "    <tr>\n",
       "      <th>44</th>\n",
       "      <td>Systems/Software Engineer</td>\n",
       "      <td>IT SAP ABAP/JAVA DEVELOPER WITH EXPERIENCE IMP...</td>\n",
       "    </tr>\n",
       "  </tbody>\n",
       "</table>\n",
       "</div>"
      ],
      "text/plain": [
       "                        Title  \\\n",
       "5                   Developer   \n",
       "6            Business Analyst   \n",
       "8                   Developer   \n",
       "23            Project Manager   \n",
       "44  Systems/Software Engineer   \n",
       "\n",
       "                                          Description  \n",
       "5   NTE $100 \\n\\n\\n\\nJOB DESCRIPTION:\\n\\tTHE DATA ...  \n",
       "6   JOB DESCRIPTION:\\n\\tTHE DATA PRACTICE WEB DEVE...  \n",
       "8   DESCRIPTION:  WORK AS PART OF A BUSINESS SYSTE...  \n",
       "23  MUST SPEAK VERY GOOD ENGLISH \\n\\nADDITIONAL SK...  \n",
       "44  IT SAP ABAP/JAVA DEVELOPER WITH EXPERIENCE IMP...  "
      ]
     },
     "execution_count": 104,
     "metadata": {},
     "output_type": "execute_result"
    }
   ],
   "source": [
    "df = reqdf_topn_titles[['Title','Description']].dropna()\n",
    "df.head()"
   ]
  },
  {
   "cell_type": "code",
   "execution_count": 69,
   "metadata": {
    "collapsed": true
   },
   "outputs": [
    {
     "name": "stderr",
     "output_type": "stream",
     "text": [
      "[nltk_data] Downloading package stopwords to\n",
      "[nltk_data]     C:\\Users\\johd003\\AppData\\Roaming\\nltk_data...\n",
      "[nltk_data]   Package stopwords is already up-to-date!\n"
     ]
    }
   ],
   "source": [
    "from nltk.tokenize import sent_tokenize, word_tokenize\n",
    "from nltk.corpus import stopwords\n",
    "nltk.download('stopwords')\n",
    "import nltk\n",
    "from nltk.corpus import stopwords\n",
    "stopWords = set(stopwords.words('english'))\n",
    "\n",
    "ps = nltk.PorterStemmer()\n",
    "#data = pd.read_csv(\"SMSSpamCollection.tsv\", sep='\\t')\n",
    "#data.columns = ['label', 'body_text']\n",
    "\n",
    "def count_punct(text):\n",
    "    count = sum([1 for char in text if char in string.punctuation])\n",
    "    return round(count/(len(text) - text.count(\" \")), 3)*100\n",
    "\n",
    "def clean_text(text):\n",
    "    text = \"\".join([word.lower() for word in text if word not in string.punctuation])\n",
    "    tokens = re.split('\\W+', text)\n",
    "    text = [ps.stem(word) for word in tokens if word not in stopWords]\n",
    "    return text"
   ]
  },
  {
   "cell_type": "code",
   "execution_count": null,
   "metadata": {},
   "outputs": [],
   "source": [
    "df['jd_prepped'] = df['Description'].apply(clean_text)"
   ]
  },
  {
   "cell_type": "code",
   "execution_count": null,
   "metadata": {},
   "outputs": [],
   "source": [
    "df['jd_prepped'].head()"
   ]
  },
  {
   "cell_type": "code",
   "execution_count": null,
   "metadata": {},
   "outputs": [],
   "source": [
    "#inspect the first row of df.jd_prepped\n",
    "df.jd_prepped.iloc[0]"
   ]
  },
  {
   "cell_type": "code",
   "execution_count": null,
   "metadata": {},
   "outputs": [],
   "source": [
    "#initialize all words with first record\n",
    "all_words = pd.Series(df.jd_prepped.iloc[0])\n",
    "#loop through and append with rest of the records\n",
    "for i in range(1,df.shape[0]):\n",
    "    s = pd.Series(df.jd_prepped.iloc[i])\n",
    "    all_words = all_words.append(s,ignore_index=True)"
   ]
  },
  {
   "cell_type": "code",
   "execution_count": null,
   "metadata": {},
   "outputs": [],
   "source": [
    "nwords = len(all_words)\n",
    "print(\"There are {} uniqe words in the dataframe\".format(nwords))"
   ]
  },
  {
   "cell_type": "code",
   "execution_count": 25,
   "metadata": {},
   "outputs": [
    {
     "data": {
      "text/html": [
       "<div>\n",
       "<style scoped>\n",
       "    .dataframe tbody tr th:only-of-type {\n",
       "        vertical-align: middle;\n",
       "    }\n",
       "\n",
       "    .dataframe tbody tr th {\n",
       "        vertical-align: top;\n",
       "    }\n",
       "\n",
       "    .dataframe thead th {\n",
       "        text-align: right;\n",
       "    }\n",
       "</style>\n",
       "<table border=\"1\" class=\"dataframe\">\n",
       "  <thead>\n",
       "    <tr style=\"text-align: right;\">\n",
       "      <th></th>\n",
       "      <th>abs_freq</th>\n",
       "    </tr>\n",
       "  </thead>\n",
       "  <tbody>\n",
       "    <tr>\n",
       "      <th>required</th>\n",
       "      <td>8759</td>\n",
       "    </tr>\n",
       "    <tr>\n",
       "      <th>work</th>\n",
       "      <td>7980</td>\n",
       "    </tr>\n",
       "    <tr>\n",
       "      <th>team</th>\n",
       "      <td>5762</td>\n",
       "    </tr>\n",
       "    <tr>\n",
       "      <th>experience</th>\n",
       "      <td>5478</td>\n",
       "    </tr>\n",
       "    <tr>\n",
       "      <th>skills</th>\n",
       "      <td>4833</td>\n",
       "    </tr>\n",
       "  </tbody>\n",
       "</table>\n",
       "</div>"
      ],
      "text/plain": [
       "            abs_freq\n",
       "required        8759\n",
       "work            7980\n",
       "team            5762\n",
       "experience      5478\n",
       "skills          4833"
      ]
     },
     "execution_count": 25,
     "metadata": {},
     "output_type": "execute_result"
    }
   ],
   "source": [
    "##create a word frequency dataframe\n",
    "from collections import defaultdict\n",
    "import pandas as pd\n",
    "\n",
    "word_freq = defaultdict(int)\n",
    "\n",
    "for text in all_words:\n",
    "    for word in text.split():\n",
    "        word_freq[word] += 1\n",
    "\n",
    "word_freq_df = pd.DataFrame.from_dict(word_freq, orient='index') \\\n",
    ".sort_values(0, ascending=False) \\\n",
    ".rename(columns={0: 'abs_freq'})\n",
    "\n",
    "word_freq_df.head()"
   ]
  },
  {
   "cell_type": "code",
   "execution_count": null,
   "metadata": {},
   "outputs": [],
   "source": [
    "df.head()"
   ]
  },
  {
   "cell_type": "code",
   "execution_count": 22,
   "metadata": {},
   "outputs": [],
   "source": [
    "##new function that removes numbers, DOES NOT STEM, and removes stop words\n",
    "def clean_text_no_stem(text):\n",
    "    # split into words\n",
    "    lc = text.lower()\n",
    "    tokens = word_tokenize(lc)\n",
    "    # remove all tokens that are not alphabetic\n",
    "    words = [word for word in tokens if word.isalpha()]\n",
    "    words = [word for word in words if word not in stopWords]\n",
    "    #words = [word for word in words if word not in commonWords]\n",
    "    return words"
   ]
  },
  {
   "cell_type": "code",
   "execution_count": 9,
   "metadata": {},
   "outputs": [],
   "source": [
    "commonWords = []"
   ]
  },
  {
   "cell_type": "code",
   "execution_count": 23,
   "metadata": {},
   "outputs": [
    {
     "data": {
      "text/plain": [
       "5      [nte, job, description, data, quality, dq, vis...\n",
       "6      [job, description, data, practice, web, develo...\n",
       "8      [description, work, part, business, system, su...\n",
       "23     [must, speak, good, english, additional, skill...\n",
       "44     [sap, developer, experience, implementing, sol...\n",
       "45     [test, lead, testing, enterprise, services, te...\n",
       "46     [job, responsibilities, reset, passwords, user...\n",
       "49     [job, description, enterprise, monitoring, res...\n",
       "54     [supprot, role, analysts, part, global, team, ...\n",
       "55     [work, various, internal, groups, backend, con...\n",
       "77     [manages, one, projects, within, constraints, ...\n",
       "105    [capable, test, preparation, test, data, manag...\n",
       "107                        [stabilization, uat, support]\n",
       "121    [data, interview, ot, responsibilities, estima...\n",
       "130    [assume, overall, qa, responsibility, along, o...\n",
       "Name: jd_tokened, dtype: object"
      ]
     },
     "execution_count": 23,
     "metadata": {},
     "output_type": "execute_result"
    }
   ],
   "source": [
    "df['jd_tokened'] = df['Description'].apply(clean_text_no_stem)\n",
    "df['jd_tokened'].head(15)"
   ]
  },
  {
   "cell_type": "code",
   "execution_count": 11,
   "metadata": {},
   "outputs": [],
   "source": [
    "#initalize all words\n",
    "all_words = pd.Series(df.jd_tokened.iloc[0])\n",
    "#loop through and append\n",
    "for i in range(1,df.shape[0]):\n",
    "    s = pd.Series(df.jd_tokened.iloc[i])\n",
    "    all_words = all_words.append(s,ignore_index=True)"
   ]
  },
  {
   "cell_type": "code",
   "execution_count": 13,
   "metadata": {},
   "outputs": [
    {
     "data": {
      "text/html": [
       "<div>\n",
       "<style scoped>\n",
       "    .dataframe tbody tr th:only-of-type {\n",
       "        vertical-align: middle;\n",
       "    }\n",
       "\n",
       "    .dataframe tbody tr th {\n",
       "        vertical-align: top;\n",
       "    }\n",
       "\n",
       "    .dataframe thead th {\n",
       "        text-align: right;\n",
       "    }\n",
       "</style>\n",
       "<table border=\"1\" class=\"dataframe\">\n",
       "  <thead>\n",
       "    <tr style=\"text-align: right;\">\n",
       "      <th></th>\n",
       "      <th>abs_freq</th>\n",
       "    </tr>\n",
       "  </thead>\n",
       "  <tbody>\n",
       "    <tr>\n",
       "      <th>required</th>\n",
       "      <td>8759</td>\n",
       "    </tr>\n",
       "    <tr>\n",
       "      <th>work</th>\n",
       "      <td>7980</td>\n",
       "    </tr>\n",
       "    <tr>\n",
       "      <th>team</th>\n",
       "      <td>5762</td>\n",
       "    </tr>\n",
       "    <tr>\n",
       "      <th>experience</th>\n",
       "      <td>5478</td>\n",
       "    </tr>\n",
       "    <tr>\n",
       "      <th>skills</th>\n",
       "      <td>4833</td>\n",
       "    </tr>\n",
       "  </tbody>\n",
       "</table>\n",
       "</div>"
      ],
      "text/plain": [
       "            abs_freq\n",
       "required        8759\n",
       "work            7980\n",
       "team            5762\n",
       "experience      5478\n",
       "skills          4833"
      ]
     },
     "execution_count": 13,
     "metadata": {},
     "output_type": "execute_result"
    }
   ],
   "source": [
    "##create a word frequency dataframe\n",
    "from collections import defaultdict\n",
    "import pandas as pd\n",
    "word_freq = defaultdict(int)\n",
    "\n",
    "for text in all_words:\n",
    "    for word in text.split():\n",
    "        word_freq[word] += 1\n",
    "\n",
    "word_freq_df = pd.DataFrame.from_dict(word_freq, orient='index') \\\n",
    ".sort_values(0, ascending=False) \\\n",
    ".rename(columns={0: 'abs_freq'})\n",
    "\n",
    "word_freq_df.head(5)"
   ]
  },
  {
   "cell_type": "code",
   "execution_count": 14,
   "metadata": {},
   "outputs": [],
   "source": [
    "##add metadata to word freq dataframe\n",
    "word_freq_df['Title'] = 'Top 15'\n",
    "word_freq_df['Observations'] = df.shape[0]\n",
    "word_freq_df['Word'] = word_freq_df.index\n",
    "word_freq_df['Rank'] = word_freq_df.abs_freq.rank(method='dense',ascending=False)\n",
    "word_freq_df = word_freq_df[word_freq_df['Rank'] <= 25]"
   ]
  },
  {
   "cell_type": "code",
   "execution_count": 15,
   "metadata": {},
   "outputs": [
    {
     "data": {
      "text/html": [
       "<div>\n",
       "<style scoped>\n",
       "    .dataframe tbody tr th:only-of-type {\n",
       "        vertical-align: middle;\n",
       "    }\n",
       "\n",
       "    .dataframe tbody tr th {\n",
       "        vertical-align: top;\n",
       "    }\n",
       "\n",
       "    .dataframe thead th {\n",
       "        text-align: right;\n",
       "    }\n",
       "</style>\n",
       "<table border=\"1\" class=\"dataframe\">\n",
       "  <thead>\n",
       "    <tr style=\"text-align: right;\">\n",
       "      <th></th>\n",
       "      <th>abs_freq</th>\n",
       "      <th>Title</th>\n",
       "      <th>Observations</th>\n",
       "      <th>Word</th>\n",
       "      <th>Rank</th>\n",
       "    </tr>\n",
       "  </thead>\n",
       "  <tbody>\n",
       "    <tr>\n",
       "      <th>required</th>\n",
       "      <td>8759</td>\n",
       "      <td>Top 15</td>\n",
       "      <td>10228</td>\n",
       "      <td>required</td>\n",
       "      <td>1.0</td>\n",
       "    </tr>\n",
       "    <tr>\n",
       "      <th>work</th>\n",
       "      <td>7980</td>\n",
       "      <td>Top 15</td>\n",
       "      <td>10228</td>\n",
       "      <td>work</td>\n",
       "      <td>2.0</td>\n",
       "    </tr>\n",
       "    <tr>\n",
       "      <th>team</th>\n",
       "      <td>5762</td>\n",
       "      <td>Top 15</td>\n",
       "      <td>10228</td>\n",
       "      <td>team</td>\n",
       "      <td>3.0</td>\n",
       "    </tr>\n",
       "    <tr>\n",
       "      <th>experience</th>\n",
       "      <td>5478</td>\n",
       "      <td>Top 15</td>\n",
       "      <td>10228</td>\n",
       "      <td>experience</td>\n",
       "      <td>4.0</td>\n",
       "    </tr>\n",
       "    <tr>\n",
       "      <th>skills</th>\n",
       "      <td>4833</td>\n",
       "      <td>Top 15</td>\n",
       "      <td>10228</td>\n",
       "      <td>skills</td>\n",
       "      <td>5.0</td>\n",
       "    </tr>\n",
       "  </tbody>\n",
       "</table>\n",
       "</div>"
      ],
      "text/plain": [
       "            abs_freq   Title  Observations        Word  Rank\n",
       "required        8759  Top 15         10228    required   1.0\n",
       "work            7980  Top 15         10228        work   2.0\n",
       "team            5762  Top 15         10228        team   3.0\n",
       "experience      5478  Top 15         10228  experience   4.0\n",
       "skills          4833  Top 15         10228      skills   5.0"
      ]
     },
     "execution_count": 15,
     "metadata": {},
     "output_type": "execute_result"
    }
   ],
   "source": [
    "word_freq_df.head()"
   ]
  },
  {
   "cell_type": "code",
   "execution_count": 19,
   "metadata": {},
   "outputs": [],
   "source": [
    "commonWords = word_freq_df.Word.index"
   ]
  },
  {
   "cell_type": "markdown",
   "metadata": {},
   "source": [
    "## Loop through each Title and build a dataframe, printing the top 25 words for each title"
   ]
  },
  {
   "cell_type": "code",
   "execution_count": 20,
   "metadata": {},
   "outputs": [
    {
     "name": "stderr",
     "output_type": "stream",
     "text": [
      "C:\\Users\\johd003\\AppData\\Local\\Continuum\\anaconda3\\lib\\site-packages\\ipykernel_launcher.py:8: SettingWithCopyWarning: \n",
      "A value is trying to be set on a copy of a slice from a DataFrame.\n",
      "Try using .loc[row_indexer,col_indexer] = value instead\n",
      "\n",
      "See the caveats in the documentation: http://pandas.pydata.org/pandas-docs/stable/indexing.html#indexing-view-versus-copy\n",
      "  \n"
     ]
    },
    {
     "name": "stdout",
     "output_type": "stream",
     "text": [
      "The shape for job title df:Administrative Assistant is (1696, 3)\n",
      "6231\n",
      "(6231, 1)\n",
      "The shape for job title df:Project Manager is (1405, 3)\n",
      "6616\n",
      "(6616, 1)\n",
      "The shape for job title df:Assembly Worker is (1035, 3)\n",
      "3911\n",
      "(3911, 1)\n",
      "The shape for job title df:Business/System Analyst is (726, 3)\n",
      "4389\n",
      "(4389, 1)\n",
      "The shape for job title df:Developer is (699, 3)\n",
      "3285\n",
      "(3285, 1)\n",
      "The shape for job title df:Data Entry Operator is (622, 3)\n",
      "3806\n",
      "(3806, 1)\n",
      "The shape for job title df:Systems/Software Engineer is (503, 3)\n",
      "3902\n",
      "(3902, 1)\n",
      "The shape for job title df:IT Analyst is (501, 3)\n",
      "2762\n",
      "(2762, 1)\n",
      "The shape for job title df:Recruiter is (485, 3)\n",
      "2285\n",
      "(2285, 1)\n",
      "The shape for job title df:Graphic Designer is (464, 3)\n",
      "1355\n",
      "(1355, 1)\n",
      "The shape for job title df:Business Analyst is (445, 3)\n",
      "3405\n",
      "(3405, 1)\n",
      "The shape for job title df:Manufacturing Technician is (432, 3)\n",
      "2705\n",
      "(2705, 1)\n",
      "The shape for job title df:Financial Analyst is (411, 3)\n",
      "3598\n",
      "(3598, 1)\n",
      "The shape for job title df:Sales Manager is (403, 3)\n",
      "1364\n",
      "(1364, 1)\n",
      "The shape for job title df:Design Validation Engineer is (401, 3)\n",
      "976\n",
      "(976, 1)\n"
     ]
    }
   ],
   "source": [
    "#initialize wfd with the word_freq_df from above steps\n",
    "wfd = word_freq_df\n",
    "\n",
    "#loop through each topn_title\n",
    "for i in topn_titles:\n",
    "    pTitle = i\n",
    "    dff = df[df['Title'] == pTitle]\n",
    "    dff['jd_tokened'] = dff['Description'].apply(clean_text_no_stem)\n",
    "    print(\"The shape for job title df:{} is {}\".format(pTitle, dff.shape))\n",
    "\n",
    "    words = []\n",
    "    words = pd.Series(dff.jd_tokened.iloc[0])\n",
    "    for j in range(1,dff.shape[0]):\n",
    "        s = pd.Series(dff.jd_tokened.iloc[j])\n",
    "        words = words.append(s,ignore_index=True)\n",
    "           \n",
    "    word_freq_f = defaultdict(int)\n",
    "    for text in words:\n",
    "        for word in text.split():\n",
    "            word_freq_f[word] += 1\n",
    "    print(len(word_freq_f))\n",
    "\n",
    "    word_freq_dff = []\n",
    "    word_freq_dff = pd.DataFrame.from_dict(word_freq_f, orient='index') \\\n",
    "    .rename(columns={0: 'abs_freq'}) \\\n",
    "    .sort_values('abs_freq', ascending=False)\n",
    "    print(word_freq_dff.shape)\n",
    "    \n",
    "    word_freq_dff = word_freq_dff.head(25)\n",
    "    word_freq_dff['Title'] = pTitle\n",
    "    word_freq_dff['Observations'] = dff.shape[0]\n",
    "    word_freq_dff['Word'] = word_freq_dff.index\n",
    "    word_freq_dff['Rank'] = word_freq_dff.abs_freq.rank(method='dense',ascending=False)\n",
    "    wfd = wfd.append(word_freq_dff, ignore_index=True)"
   ]
  },
  {
   "cell_type": "code",
   "execution_count": null,
   "metadata": {},
   "outputs": [],
   "source": [
    "wfd.to_csv(r'C:\\Users\\johd003\\Documents\\GitHub\\data\\req_description_word_freq.csv',index=False)"
   ]
  },
  {
   "cell_type": "code",
   "execution_count": 85,
   "metadata": {},
   "outputs": [],
   "source": [
    "import string\n",
    "def lower_rm_punct(text):\n",
    "    text = \"\".join([word.lower() for word in text if word not in string.punctuation])\n",
    "    #text = \"\".join([word.lower() for word in text if word not in stopWords])\n",
    "    return text"
   ]
  },
  {
   "cell_type": "code",
   "execution_count": 89,
   "metadata": {},
   "outputs": [],
   "source": [
    "#https://www2.cs.duke.edu/courses/spring14/compsci290/assignments/lab02.html\n",
    "from sklearn.feature_extraction.text import TfidfVectorizer\n",
    "v = TfidfVectorizer(stop_words=stopWords)\n",
    "Xtr = v.fit_transform(df['Description'].apply(lower_rm_punct))\n",
    "features = v.get_feature_names()"
   ]
  },
  {
   "cell_type": "code",
   "execution_count": 90,
   "metadata": {},
   "outputs": [],
   "source": [
    "#https://buhrmann.github.io/tfidf-analysis.html\n",
    "def top_tfidf_feats(row, features, top_n=10):\n",
    "    ''' Get top n tfidf values in row and return them with their corresponding feature names.'''\n",
    "    topn_ids = np.argsort(row)[::-1][:top_n]\n",
    "    top_feats = [(features[i], row[i]) for i in topn_ids]\n",
    "    df = pd.DataFrame(top_feats)\n",
    "    df.columns = ['feature', 'tfidf']\n",
    "    return df\n",
    "\n",
    "def top_feats_in_doc(Xtr, features, row_id, top_n=10):\n",
    "    ''' Top tfidf features in specific document (matrix row) '''\n",
    "    row = np.squeeze(Xtr[row_id].toarray())\n",
    "    return top_tfidf_feats(row, features, top_n)\n",
    "\n",
    "def top_mean_feats(Xtr, features, grp_ids=None, min_tfidf=0.1, top_n=10):\n",
    "    ''' Return the top n features that on average are most important amongst documents in rows\n",
    "        indentified by indices in grp_ids. '''\n",
    "    if grp_ids:\n",
    "        D = Xtr[grp_ids].toarray()\n",
    "    else:\n",
    "        D = Xtr.toarray()\n",
    "\n",
    "    D[D < min_tfidf] = 0\n",
    "    tfidf_means = np.mean(D, axis=0)\n",
    "    return top_tfidf_feats(tfidf_means, features, top_n)"
   ]
  },
  {
   "cell_type": "code",
   "execution_count": 95,
   "metadata": {},
   "outputs": [
    {
     "data": {
      "text/html": [
       "<div>\n",
       "<style scoped>\n",
       "    .dataframe tbody tr th:only-of-type {\n",
       "        vertical-align: middle;\n",
       "    }\n",
       "\n",
       "    .dataframe tbody tr th {\n",
       "        vertical-align: top;\n",
       "    }\n",
       "\n",
       "    .dataframe thead th {\n",
       "        text-align: right;\n",
       "    }\n",
       "</style>\n",
       "<table border=\"1\" class=\"dataframe\">\n",
       "  <thead>\n",
       "    <tr style=\"text-align: right;\">\n",
       "      <th></th>\n",
       "      <th>feature</th>\n",
       "      <th>tfidf</th>\n",
       "    </tr>\n",
       "  </thead>\n",
       "  <tbody>\n",
       "    <tr>\n",
       "      <th>0</th>\n",
       "      <td>gxp</td>\n",
       "      <td>0.498215</td>\n",
       "    </tr>\n",
       "    <tr>\n",
       "      <th>1</th>\n",
       "      <td>program</td>\n",
       "      <td>0.433371</td>\n",
       "    </tr>\n",
       "    <tr>\n",
       "      <th>2</th>\n",
       "      <td>infrastructure</td>\n",
       "      <td>0.234505</td>\n",
       "    </tr>\n",
       "    <tr>\n",
       "      <th>3</th>\n",
       "      <td>project</td>\n",
       "      <td>0.214151</td>\n",
       "    </tr>\n",
       "    <tr>\n",
       "      <th>4</th>\n",
       "      <td>manager</td>\n",
       "      <td>0.198428</td>\n",
       "    </tr>\n",
       "    <tr>\n",
       "      <th>5</th>\n",
       "      <td>siteenterprise</td>\n",
       "      <td>0.148927</td>\n",
       "    </tr>\n",
       "    <tr>\n",
       "      <th>6</th>\n",
       "      <td>remediate</td>\n",
       "      <td>0.142598</td>\n",
       "    </tr>\n",
       "    <tr>\n",
       "      <th>7</th>\n",
       "      <td>overarching</td>\n",
       "      <td>0.142598</td>\n",
       "    </tr>\n",
       "    <tr>\n",
       "      <th>8</th>\n",
       "      <td>dotted</td>\n",
       "      <td>0.123802</td>\n",
       "    </tr>\n",
       "    <tr>\n",
       "      <th>9</th>\n",
       "      <td>wellstructured</td>\n",
       "      <td>0.120956</td>\n",
       "    </tr>\n",
       "  </tbody>\n",
       "</table>\n",
       "</div>"
      ],
      "text/plain": [
       "          feature     tfidf\n",
       "0             gxp  0.498215\n",
       "1         program  0.433371\n",
       "2  infrastructure  0.234505\n",
       "3         project  0.214151\n",
       "4         manager  0.198428\n",
       "5  siteenterprise  0.148927\n",
       "6       remediate  0.142598\n",
       "7     overarching  0.142598\n",
       "8          dotted  0.123802\n",
       "9  wellstructured  0.120956"
      ]
     },
     "execution_count": 95,
     "metadata": {},
     "output_type": "execute_result"
    }
   ],
   "source": [
    "top_feats_in_doc(Xtr, features, row_id=1000, top_n=10)"
   ]
  },
  {
   "cell_type": "code",
   "execution_count": 97,
   "metadata": {},
   "outputs": [],
   "source": [
    "def top_mean_feats(Xtr, features, grp_ids=None, min_tfidf=0.1, top_n=10):\n",
    "    ''' Return the top n features that on average are most important amongst documents in rows\n",
    "        indentified by indices in grp_ids. '''\n",
    "    if grp_ids:\n",
    "        D = Xtr[grp_ids].toarray()\n",
    "    else:\n",
    "        D = Xtr.toarray()\n",
    "\n",
    "    D[D < min_tfidf] = 0\n",
    "    tfidf_means = np.mean(D, axis=0)\n",
    "    return top_tfidf_feats(tfidf_means, features, top_n)"
   ]
  },
  {
   "cell_type": "code",
   "execution_count": 128,
   "metadata": {},
   "outputs": [],
   "source": [
    "tfidf_features_df = top_mean_feats(Xtr, features, top_n = 25)\n",
    "tfidf_features_df['Title'] = 'Top 15'"
   ]
  },
  {
   "cell_type": "code",
   "execution_count": 129,
   "metadata": {},
   "outputs": [],
   "source": [
    "#https://www2.cs.duke.edu/courses/spring14/compsci290/assignments/lab02.html\n",
    "tfidf_features_df = pd.DataFrame()\n",
    "for i in topn_titles:\n",
    "    pTitle = i \n",
    "    idf = df[df['Title']==pTitle]\n",
    "    iv = TfidfVectorizer(stop_words=stopWords)\n",
    "    iXtr = iv.fit_transform(idf['Description'].apply(lower_rm_punct))\n",
    "    ifeatures = iv.get_feature_names()\n",
    "    i_tfdf = top_mean_feats(iXtr, ifeatures,top_n=25)\n",
    "    i_tfdf['Title'] = pTitle\n",
    "    tfidf_features_df = tfidf_features_df.append(i_tfdf,ignore_index=True)\n",
    "    "
   ]
  },
  {
   "cell_type": "code",
   "execution_count": 131,
   "metadata": {},
   "outputs": [
    {
     "data": {
      "text/html": [
       "<div>\n",
       "<style scoped>\n",
       "    .dataframe tbody tr th:only-of-type {\n",
       "        vertical-align: middle;\n",
       "    }\n",
       "\n",
       "    .dataframe tbody tr th {\n",
       "        vertical-align: top;\n",
       "    }\n",
       "\n",
       "    .dataframe thead th {\n",
       "        text-align: right;\n",
       "    }\n",
       "</style>\n",
       "<table border=\"1\" class=\"dataframe\">\n",
       "  <thead>\n",
       "    <tr style=\"text-align: right;\">\n",
       "      <th></th>\n",
       "      <th>feature</th>\n",
       "      <th>tfidf</th>\n",
       "      <th>Title</th>\n",
       "    </tr>\n",
       "  </thead>\n",
       "  <tbody>\n",
       "    <tr>\n",
       "      <th>0</th>\n",
       "      <td>slot</td>\n",
       "      <td>0.046285</td>\n",
       "      <td>Administrative Assistant</td>\n",
       "    </tr>\n",
       "    <tr>\n",
       "      <th>1</th>\n",
       "      <td>temporary</td>\n",
       "      <td>0.045812</td>\n",
       "      <td>Administrative Assistant</td>\n",
       "    </tr>\n",
       "    <tr>\n",
       "      <th>2</th>\n",
       "      <td>requiredo</td>\n",
       "      <td>0.032756</td>\n",
       "      <td>Administrative Assistant</td>\n",
       "    </tr>\n",
       "    <tr>\n",
       "      <th>3</th>\n",
       "      <td>level</td>\n",
       "      <td>0.032178</td>\n",
       "      <td>Administrative Assistant</td>\n",
       "    </tr>\n",
       "    <tr>\n",
       "      <th>4</th>\n",
       "      <td>typically</td>\n",
       "      <td>0.029538</td>\n",
       "      <td>Administrative Assistant</td>\n",
       "    </tr>\n",
       "  </tbody>\n",
       "</table>\n",
       "</div>"
      ],
      "text/plain": [
       "     feature     tfidf                     Title\n",
       "0       slot  0.046285  Administrative Assistant\n",
       "1  temporary  0.045812  Administrative Assistant\n",
       "2  requiredo  0.032756  Administrative Assistant\n",
       "3      level  0.032178  Administrative Assistant\n",
       "4  typically  0.029538  Administrative Assistant"
      ]
     },
     "execution_count": 131,
     "metadata": {},
     "output_type": "execute_result"
    }
   ],
   "source": [
    "tfidf_features_df.head()"
   ]
  },
  {
   "cell_type": "code",
   "execution_count": 132,
   "metadata": {},
   "outputs": [],
   "source": [
    "tfidf_features_df.to_csv(r'C:\\Users\\johd003\\Documents\\GitHub\\data\\req_description_tfidf.csv',index=False)"
   ]
  }
 ],
 "metadata": {
  "kernelspec": {
   "display_name": "Python 3",
   "language": "python",
   "name": "python3"
  },
  "language_info": {
   "codemirror_mode": {
    "name": "ipython",
    "version": 3
   },
   "file_extension": ".py",
   "mimetype": "text/x-python",
   "name": "python",
   "nbconvert_exporter": "python",
   "pygments_lexer": "ipython3",
   "version": "3.7.1"
  }
 },
 "nbformat": 4,
 "nbformat_minor": 2
}
