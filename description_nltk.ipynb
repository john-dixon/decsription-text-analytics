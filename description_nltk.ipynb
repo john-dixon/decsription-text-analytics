{
 "cells": [
  {
   "cell_type": "code",
   "execution_count": 84,
   "metadata": {
    "collapsed": true
   },
   "outputs": [],
   "source": [
    "import pickle\n",
    "import sys\n",
    "import os\n",
    "import pandas as pd\n",
    "import numpy as np\n",
    "from sklearn.metrics import confusion_matrix\n",
    "from sklearn.linear_model import LogisticRegression\n",
    "from sklearn.model_selection import train_test_split\n",
    "from sklearn.metrics import precision_recall_curve\n",
    "# Dependencies\n",
    "import pickle\n",
    "import pandas as pd\n",
    "import numpy as np\n",
    "from sklearn.cluster import KMeans\n",
    "from sklearn.preprocessing import LabelEncoder\n",
    "from sklearn.preprocessing import MinMaxScaler\n",
    "import seaborn as sns\n",
    "import matplotlib.pyplot as plt\n",
    "import nltk\n",
    "import re\n",
    "from sklearn.feature_extraction.text import TfidfVectorizer"
   ]
  },
  {
   "cell_type": "code",
   "execution_count": 161,
   "metadata": {
    "collapsed": true
   },
   "outputs": [
    {
     "name": "stderr",
     "output_type": "stream",
     "text": [
      "C:\\Users\\johd003\\AppData\\Local\\Continuum\\anaconda3\\lib\\site-packages\\IPython\\core\\interactiveshell.py:3020: DtypeWarning: Columns (4,15,50) have mixed types. Specify dtype option on import or set low_memory=False.\n",
      "  interactivity=interactivity, compiler=compiler, result=result)\n"
     ]
    }
   ],
   "source": [
    "reqdf = pd.read_csv(r'C:\\Users\\johd003\\Documents\\GitHub\\data\\reqdata.csv')"
   ]
  },
  {
   "cell_type": "code",
   "execution_count": 171,
   "metadata": {},
   "outputs": [
    {
     "data": {
      "text/plain": [
       "Index(['Administrative Assistant', 'Project Manager', 'Assembly Worker',\n",
       "       'Business/System Analyst', 'Developer', 'Data Entry Operator',\n",
       "       'Systems/Software Engineer', 'IT Analyst', 'Recruiter',\n",
       "       'Graphic Designer', 'Business Analyst', 'Manufacturing Technician',\n",
       "       'Financial Analyst', 'Sales Manager', 'Design Validation Engineer'],\n",
       "      dtype='object')"
      ]
     },
     "execution_count": 171,
     "metadata": {},
     "output_type": "execute_result"
    }
   ],
   "source": [
    "topn_titles = reqdf['Title'].value_counts().nlargest(15).index.astype(list)\n",
    "topn_titles"
   ]
  },
  {
   "cell_type": "code",
   "execution_count": 176,
   "metadata": {},
   "outputs": [
    {
     "data": {
      "text/plain": [
       "5                     Developer\n",
       "6              Business Analyst\n",
       "8                     Developer\n",
       "23              Project Manager\n",
       "44    Systems/Software Engineer\n",
       "Name: Title, dtype: object"
      ]
     },
     "execution_count": 176,
     "metadata": {},
     "output_type": "execute_result"
    }
   ],
   "source": [
    "reqdf_topn_titles = reqdf[reqdf['Title'].isin(topn_titles)]\n",
    "reqdf_topn_titles['Title'].head()"
   ]
  },
  {
   "cell_type": "code",
   "execution_count": 180,
   "metadata": {},
   "outputs": [
    {
     "data": {
      "text/html": [
       "<div>\n",
       "<style scoped>\n",
       "    .dataframe tbody tr th:only-of-type {\n",
       "        vertical-align: middle;\n",
       "    }\n",
       "\n",
       "    .dataframe tbody tr th {\n",
       "        vertical-align: top;\n",
       "    }\n",
       "\n",
       "    .dataframe thead th {\n",
       "        text-align: right;\n",
       "    }\n",
       "</style>\n",
       "<table border=\"1\" class=\"dataframe\">\n",
       "  <thead>\n",
       "    <tr style=\"text-align: right;\">\n",
       "      <th></th>\n",
       "      <th>Title</th>\n",
       "      <th>Description</th>\n",
       "    </tr>\n",
       "  </thead>\n",
       "  <tbody>\n",
       "    <tr>\n",
       "      <th>5</th>\n",
       "      <td>Developer</td>\n",
       "      <td>NTE $100 \\n\\n\\n\\nJOB DESCRIPTION:\\n\\tTHE DATA ...</td>\n",
       "    </tr>\n",
       "    <tr>\n",
       "      <th>6</th>\n",
       "      <td>Business Analyst</td>\n",
       "      <td>JOB DESCRIPTION:\\n\\tTHE DATA PRACTICE WEB DEVE...</td>\n",
       "    </tr>\n",
       "    <tr>\n",
       "      <th>8</th>\n",
       "      <td>Developer</td>\n",
       "      <td>DESCRIPTION:  WORK AS PART OF A BUSINESS SYSTE...</td>\n",
       "    </tr>\n",
       "    <tr>\n",
       "      <th>23</th>\n",
       "      <td>Project Manager</td>\n",
       "      <td>MUST SPEAK VERY GOOD ENGLISH \\n\\nADDITIONAL SK...</td>\n",
       "    </tr>\n",
       "    <tr>\n",
       "      <th>44</th>\n",
       "      <td>Systems/Software Engineer</td>\n",
       "      <td>IT SAP ABAP/JAVA DEVELOPER WITH EXPERIENCE IMP...</td>\n",
       "    </tr>\n",
       "  </tbody>\n",
       "</table>\n",
       "</div>"
      ],
      "text/plain": [
       "                        Title  \\\n",
       "5                   Developer   \n",
       "6            Business Analyst   \n",
       "8                   Developer   \n",
       "23            Project Manager   \n",
       "44  Systems/Software Engineer   \n",
       "\n",
       "                                          Description  \n",
       "5   NTE $100 \\n\\n\\n\\nJOB DESCRIPTION:\\n\\tTHE DATA ...  \n",
       "6   JOB DESCRIPTION:\\n\\tTHE DATA PRACTICE WEB DEVE...  \n",
       "8   DESCRIPTION:  WORK AS PART OF A BUSINESS SYSTE...  \n",
       "23  MUST SPEAK VERY GOOD ENGLISH \\n\\nADDITIONAL SK...  \n",
       "44  IT SAP ABAP/JAVA DEVELOPER WITH EXPERIENCE IMP...  "
      ]
     },
     "execution_count": 180,
     "metadata": {},
     "output_type": "execute_result"
    }
   ],
   "source": [
    "df = reqdf_topn_titles[['Title','Description']].dropna().drop_duplicates()\n",
    "df.head()"
   ]
  },
  {
   "cell_type": "code",
   "execution_count": 181,
   "metadata": {
    "collapsed": true
   },
   "outputs": [
    {
     "name": "stderr",
     "output_type": "stream",
     "text": [
      "[nltk_data] Downloading package stopwords to\n",
      "[nltk_data]     C:\\Users\\johd003\\AppData\\Roaming\\nltk_data...\n",
      "[nltk_data]   Package stopwords is already up-to-date!\n"
     ]
    }
   ],
   "source": [
    "from nltk.tokenize import sent_tokenize, word_tokenize\n",
    "from nltk.corpus import stopwords\n",
    "nltk.download('stopwords')\n",
    "import nltk\n",
    "from nltk.corpus import stopwords\n",
    "stopWords = set(stopwords.words('english'))\n",
    "\n",
    "ps = nltk.PorterStemmer()\n",
    "#data = pd.read_csv(\"SMSSpamCollection.tsv\", sep='\\t')\n",
    "#data.columns = ['label', 'body_text']\n",
    "\n",
    "def count_punct(text):\n",
    "    count = sum([1 for char in text if char in string.punctuation])\n",
    "    return round(count/(len(text) - text.count(\" \")), 3)*100\n",
    "\n",
    "def clean_text(text):\n",
    "    text = \"\".join([word.lower() for word in text if word not in string.punctuation])\n",
    "    tokens = re.split('\\W+', text)\n",
    "    text = [ps.stem(word) for word in tokens if word not in stopWords]\n",
    "    return text"
   ]
  },
  {
   "cell_type": "code",
   "execution_count": 218,
   "metadata": {},
   "outputs": [],
   "source": [
    "df['jd_prepped'] = df['Description'].apply(clean_text)"
   ]
  },
  {
   "cell_type": "code",
   "execution_count": 219,
   "metadata": {},
   "outputs": [
    {
     "data": {
      "text/plain": [
       "5     [nte, 100, job, descript, data, qualiti, dq, v...\n",
       "6     [job, descript, data, practic, web, develop, a...\n",
       "8     [descript, work, part, busi, system, support, ...\n",
       "23    [must, speak, good, english, addit, skill, vrf...\n",
       "44    [sap, abapjava, develop, experi, implement, so...\n",
       "Name: jd_prepped, dtype: object"
      ]
     },
     "execution_count": 219,
     "metadata": {},
     "output_type": "execute_result"
    }
   ],
   "source": [
    "df['jd_prepped'].head()"
   ]
  },
  {
   "cell_type": "code",
   "execution_count": 220,
   "metadata": {},
   "outputs": [
    {
     "data": {
      "text/plain": [
       "['nte',\n",
       " '100',\n",
       " 'job',\n",
       " 'descript',\n",
       " 'data',\n",
       " 'qualiti',\n",
       " 'dq',\n",
       " 'visual',\n",
       " 'expert',\n",
       " 'contribut',\n",
       " 'strateg',\n",
       " 'function',\n",
       " 'implement',\n",
       " 'dq',\n",
       " 'corpor',\n",
       " 'involv',\n",
       " 'work',\n",
       " 'busi',\n",
       " 'stakehold',\n",
       " 'understand',\n",
       " 'busi']"
      ]
     },
     "execution_count": 220,
     "metadata": {},
     "output_type": "execute_result"
    }
   ],
   "source": [
    "df.jd_prepped.iloc[0]"
   ]
  },
  {
   "cell_type": "code",
   "execution_count": 233,
   "metadata": {},
   "outputs": [],
   "source": [
    "all_words = pd.Series(df.jd_prepped.iloc[0])\n",
    "for i in range(1,df.shape[0]):\n",
    "    s = pd.Series(df.jd_prepped.iloc[i])\n",
    "    all_words = all_words.append(s,ignore_index=True)"
   ]
  },
  {
   "cell_type": "code",
   "execution_count": 234,
   "metadata": {},
   "outputs": [
    {
     "data": {
      "text/plain": [
       "367457"
      ]
     },
     "execution_count": 234,
     "metadata": {},
     "output_type": "execute_result"
    }
   ],
   "source": [
    "len(all_words)"
   ]
  },
  {
   "cell_type": "code",
   "execution_count": 238,
   "metadata": {},
   "outputs": [
    {
     "data": {
      "text/html": [
       "<div>\n",
       "<style scoped>\n",
       "    .dataframe tbody tr th:only-of-type {\n",
       "        vertical-align: middle;\n",
       "    }\n",
       "\n",
       "    .dataframe tbody tr th {\n",
       "        vertical-align: top;\n",
       "    }\n",
       "\n",
       "    .dataframe thead th {\n",
       "        text-align: right;\n",
       "    }\n",
       "</style>\n",
       "<table border=\"1\" class=\"dataframe\">\n",
       "  <thead>\n",
       "    <tr style=\"text-align: right;\">\n",
       "      <th></th>\n",
       "      <th>abs_freq</th>\n",
       "    </tr>\n",
       "  </thead>\n",
       "  <tbody>\n",
       "    <tr>\n",
       "      <th>â</th>\n",
       "      <td>8129</td>\n",
       "    </tr>\n",
       "    <tr>\n",
       "      <th>manag</th>\n",
       "      <td>4917</td>\n",
       "    </tr>\n",
       "    <tr>\n",
       "      <th>project</th>\n",
       "      <td>3949</td>\n",
       "    </tr>\n",
       "    <tr>\n",
       "      <th>work</th>\n",
       "      <td>3873</td>\n",
       "    </tr>\n",
       "    <tr>\n",
       "      <th>requir</th>\n",
       "      <td>3383</td>\n",
       "    </tr>\n",
       "  </tbody>\n",
       "</table>\n",
       "</div>"
      ],
      "text/plain": [
       "         abs_freq\n",
       "â            8129\n",
       "manag        4917\n",
       "project      3949\n",
       "work         3873\n",
       "requir       3383"
      ]
     },
     "execution_count": 238,
     "metadata": {},
     "output_type": "execute_result"
    }
   ],
   "source": [
    "from collections import defaultdict\n",
    "import pandas as pd\n",
    "#text_list = ['france', 'spain', 'spain beaches', 'france beaches', 'spain best beaches']\n",
    "\n",
    "word_freq = defaultdict(int)\n",
    "\n",
    "for text in all_words:\n",
    "    for word in text.split():\n",
    "        word_freq[word] += 1\n",
    "\n",
    "word_freq_df = pd.DataFrame.from_dict(word_freq, orient='index') \\\n",
    ".sort_values(0, ascending=False) \\\n",
    ".rename(columns={0: 'abs_freq'})\n",
    "\n",
    "word_freq_df.head()"
   ]
  },
  {
   "cell_type": "code",
   "execution_count": 239,
   "metadata": {},
   "outputs": [
    {
     "data": {
      "text/html": [
       "<div>\n",
       "<style scoped>\n",
       "    .dataframe tbody tr th:only-of-type {\n",
       "        vertical-align: middle;\n",
       "    }\n",
       "\n",
       "    .dataframe tbody tr th {\n",
       "        vertical-align: top;\n",
       "    }\n",
       "\n",
       "    .dataframe thead th {\n",
       "        text-align: right;\n",
       "    }\n",
       "</style>\n",
       "<table border=\"1\" class=\"dataframe\">\n",
       "  <thead>\n",
       "    <tr style=\"text-align: right;\">\n",
       "      <th></th>\n",
       "      <th>Title</th>\n",
       "      <th>Description</th>\n",
       "      <th>jd_prepped</th>\n",
       "    </tr>\n",
       "  </thead>\n",
       "  <tbody>\n",
       "    <tr>\n",
       "      <th>5</th>\n",
       "      <td>Developer</td>\n",
       "      <td>NTE $100 \\n\\n\\n\\nJOB DESCRIPTION:\\n\\tTHE DATA ...</td>\n",
       "      <td>[nte, 100, job, descript, data, qualiti, dq, v...</td>\n",
       "    </tr>\n",
       "    <tr>\n",
       "      <th>6</th>\n",
       "      <td>Business Analyst</td>\n",
       "      <td>JOB DESCRIPTION:\\n\\tTHE DATA PRACTICE WEB DEVE...</td>\n",
       "      <td>[job, descript, data, practic, web, develop, a...</td>\n",
       "    </tr>\n",
       "    <tr>\n",
       "      <th>8</th>\n",
       "      <td>Developer</td>\n",
       "      <td>DESCRIPTION:  WORK AS PART OF A BUSINESS SYSTE...</td>\n",
       "      <td>[descript, work, part, busi, system, support, ...</td>\n",
       "    </tr>\n",
       "    <tr>\n",
       "      <th>23</th>\n",
       "      <td>Project Manager</td>\n",
       "      <td>MUST SPEAK VERY GOOD ENGLISH \\n\\nADDITIONAL SK...</td>\n",
       "      <td>[must, speak, good, english, addit, skill, vrf...</td>\n",
       "    </tr>\n",
       "    <tr>\n",
       "      <th>44</th>\n",
       "      <td>Systems/Software Engineer</td>\n",
       "      <td>IT SAP ABAP/JAVA DEVELOPER WITH EXPERIENCE IMP...</td>\n",
       "      <td>[sap, abapjava, develop, experi, implement, so...</td>\n",
       "    </tr>\n",
       "  </tbody>\n",
       "</table>\n",
       "</div>"
      ],
      "text/plain": [
       "                        Title  \\\n",
       "5                   Developer   \n",
       "6            Business Analyst   \n",
       "8                   Developer   \n",
       "23            Project Manager   \n",
       "44  Systems/Software Engineer   \n",
       "\n",
       "                                          Description  \\\n",
       "5   NTE $100 \\n\\n\\n\\nJOB DESCRIPTION:\\n\\tTHE DATA ...   \n",
       "6   JOB DESCRIPTION:\\n\\tTHE DATA PRACTICE WEB DEVE...   \n",
       "8   DESCRIPTION:  WORK AS PART OF A BUSINESS SYSTE...   \n",
       "23  MUST SPEAK VERY GOOD ENGLISH \\n\\nADDITIONAL SK...   \n",
       "44  IT SAP ABAP/JAVA DEVELOPER WITH EXPERIENCE IMP...   \n",
       "\n",
       "                                           jd_prepped  \n",
       "5   [nte, 100, job, descript, data, qualiti, dq, v...  \n",
       "6   [job, descript, data, practic, web, develop, a...  \n",
       "8   [descript, work, part, busi, system, support, ...  \n",
       "23  [must, speak, good, english, addit, skill, vrf...  \n",
       "44  [sap, abapjava, develop, experi, implement, so...  "
      ]
     },
     "execution_count": 239,
     "metadata": {},
     "output_type": "execute_result"
    }
   ],
   "source": [
    "df.head()"
   ]
  },
  {
   "cell_type": "code",
   "execution_count": 265,
   "metadata": {},
   "outputs": [],
   "source": [
    "def clean_text_no_stem(text):\n",
    "    # split into words\n",
    "    lc = text.lower()\n",
    "    tokens = word_tokenize(lc)\n",
    "    # remove all tokens that are not alphabetic\n",
    "    words = [word for word in tokens if word.isalpha()]\n",
    "    words = [word for word in words if word not in stopWords]\n",
    "    return words"
   ]
  },
  {
   "cell_type": "code",
   "execution_count": 266,
   "metadata": {},
   "outputs": [
    {
     "data": {
      "text/plain": [
       "5      [nte, job, description, data, quality, dq, vis...\n",
       "6      [job, description, data, practice, web, develo...\n",
       "8      [description, work, part, business, system, su...\n",
       "23     [must, speak, good, english, additional, skill...\n",
       "44     [sap, developer, experience, implementing, sol...\n",
       "45     [test, lead, testing, enterprise, services, te...\n",
       "46     [job, responsibilities, reset, passwords, user...\n",
       "49     [job, description, enterprise, monitoring, res...\n",
       "54     [supprot, role, analysts, part, global, team, ...\n",
       "55     [work, various, internal, groups, backend, con...\n",
       "77     [manages, one, projects, within, constraints, ...\n",
       "105    [capable, test, preparation, test, data, manag...\n",
       "107                        [stabilization, uat, support]\n",
       "121    [data, interview, ot, responsibilities, estima...\n",
       "130    [assume, overall, qa, responsibility, along, o...\n",
       "Name: jd_tokened, dtype: object"
      ]
     },
     "execution_count": 266,
     "metadata": {},
     "output_type": "execute_result"
    }
   ],
   "source": [
    "df['jd_tokened'] = df['Description'].apply(clean_text_no_stem)\n",
    "df['jd_tokened'].head(15)"
   ]
  },
  {
   "cell_type": "code",
   "execution_count": 272,
   "metadata": {},
   "outputs": [],
   "source": [
    "    all_words = pd.Series(df.jd_tokened.iloc[0])\n",
    "for i in range(1,df.shape[0]):\n",
    "    s = pd.Series(df.jd_tokened.iloc[i])\n",
    "    all_words = all_words.append(s,ignore_index=True)"
   ]
  },
  {
   "cell_type": "code",
   "execution_count": 283,
   "metadata": {},
   "outputs": [
    {
     "data": {
      "text/html": [
       "<div>\n",
       "<style scoped>\n",
       "    .dataframe tbody tr th:only-of-type {\n",
       "        vertical-align: middle;\n",
       "    }\n",
       "\n",
       "    .dataframe tbody tr th {\n",
       "        vertical-align: top;\n",
       "    }\n",
       "\n",
       "    .dataframe thead th {\n",
       "        text-align: right;\n",
       "    }\n",
       "</style>\n",
       "<table border=\"1\" class=\"dataframe\">\n",
       "  <thead>\n",
       "    <tr style=\"text-align: right;\">\n",
       "      <th></th>\n",
       "      <th>abs_freq</th>\n",
       "    </tr>\n",
       "  </thead>\n",
       "  <tbody>\n",
       "    <tr>\n",
       "      <th>project</th>\n",
       "      <td>2791</td>\n",
       "    </tr>\n",
       "    <tr>\n",
       "      <th>work</th>\n",
       "      <td>2676</td>\n",
       "    </tr>\n",
       "    <tr>\n",
       "      <th>experience</th>\n",
       "      <td>2531</td>\n",
       "    </tr>\n",
       "    <tr>\n",
       "      <th>business</th>\n",
       "      <td>2310</td>\n",
       "    </tr>\n",
       "    <tr>\n",
       "      <th>support</th>\n",
       "      <td>2300</td>\n",
       "    </tr>\n",
       "  </tbody>\n",
       "</table>\n",
       "</div>"
      ],
      "text/plain": [
       "            abs_freq\n",
       "project         2791\n",
       "work            2676\n",
       "experience      2531\n",
       "business        2310\n",
       "support         2300"
      ]
     },
     "execution_count": 283,
     "metadata": {},
     "output_type": "execute_result"
    }
   ],
   "source": [
    "word_freq = defaultdict(int)\n",
    "\n",
    "for text in all_words:\n",
    "    for word in text.split():\n",
    "        word_freq[word] += 1\n",
    "\n",
    "word_freq_df = pd.DataFrame.from_dict(word_freq, orient='index') \\\n",
    ".sort_values(0, ascending=False) \\\n",
    ".rename(columns={0: 'abs_freq'})\n",
    "\n",
    "word_freq_df.head(5)"
   ]
  },
  {
   "cell_type": "code",
   "execution_count": 291,
   "metadata": {},
   "outputs": [
    {
     "data": {
      "text/html": [
       "<div>\n",
       "<style scoped>\n",
       "    .dataframe tbody tr th:only-of-type {\n",
       "        vertical-align: middle;\n",
       "    }\n",
       "\n",
       "    .dataframe tbody tr th {\n",
       "        vertical-align: top;\n",
       "    }\n",
       "\n",
       "    .dataframe thead th {\n",
       "        text-align: right;\n",
       "    }\n",
       "</style>\n",
       "<table border=\"1\" class=\"dataframe\">\n",
       "  <thead>\n",
       "    <tr style=\"text-align: right;\">\n",
       "      <th></th>\n",
       "      <th>abs_freq</th>\n",
       "      <th>Title</th>\n",
       "      <th>Observations</th>\n",
       "      <th>Word</th>\n",
       "      <th>Rank</th>\n",
       "    </tr>\n",
       "  </thead>\n",
       "  <tbody>\n",
       "    <tr>\n",
       "      <th>project</th>\n",
       "      <td>2791</td>\n",
       "      <td>Top 15</td>\n",
       "      <td>4806</td>\n",
       "      <td>project</td>\n",
       "      <td>1.0</td>\n",
       "    </tr>\n",
       "    <tr>\n",
       "      <th>work</th>\n",
       "      <td>2676</td>\n",
       "      <td>Top 15</td>\n",
       "      <td>4806</td>\n",
       "      <td>work</td>\n",
       "      <td>2.0</td>\n",
       "    </tr>\n",
       "    <tr>\n",
       "      <th>experience</th>\n",
       "      <td>2531</td>\n",
       "      <td>Top 15</td>\n",
       "      <td>4806</td>\n",
       "      <td>experience</td>\n",
       "      <td>3.0</td>\n",
       "    </tr>\n",
       "    <tr>\n",
       "      <th>business</th>\n",
       "      <td>2310</td>\n",
       "      <td>Top 15</td>\n",
       "      <td>4806</td>\n",
       "      <td>business</td>\n",
       "      <td>4.0</td>\n",
       "    </tr>\n",
       "    <tr>\n",
       "      <th>support</th>\n",
       "      <td>2300</td>\n",
       "      <td>Top 15</td>\n",
       "      <td>4806</td>\n",
       "      <td>support</td>\n",
       "      <td>5.0</td>\n",
       "    </tr>\n",
       "    <tr>\n",
       "      <th>team</th>\n",
       "      <td>1990</td>\n",
       "      <td>Top 15</td>\n",
       "      <td>4806</td>\n",
       "      <td>team</td>\n",
       "      <td>6.0</td>\n",
       "    </tr>\n",
       "    <tr>\n",
       "      <th>management</th>\n",
       "      <td>1972</td>\n",
       "      <td>Top 15</td>\n",
       "      <td>4806</td>\n",
       "      <td>management</td>\n",
       "      <td>7.0</td>\n",
       "    </tr>\n",
       "    <tr>\n",
       "      <th>job</th>\n",
       "      <td>1782</td>\n",
       "      <td>Top 15</td>\n",
       "      <td>4806</td>\n",
       "      <td>job</td>\n",
       "      <td>8.0</td>\n",
       "    </tr>\n",
       "    <tr>\n",
       "      <th>skills</th>\n",
       "      <td>1686</td>\n",
       "      <td>Top 15</td>\n",
       "      <td>4806</td>\n",
       "      <td>skills</td>\n",
       "      <td>9.0</td>\n",
       "    </tr>\n",
       "    <tr>\n",
       "      <th>data</th>\n",
       "      <td>1541</td>\n",
       "      <td>Top 15</td>\n",
       "      <td>4806</td>\n",
       "      <td>data</td>\n",
       "      <td>10.0</td>\n",
       "    </tr>\n",
       "    <tr>\n",
       "      <th>position</th>\n",
       "      <td>1486</td>\n",
       "      <td>Top 15</td>\n",
       "      <td>4806</td>\n",
       "      <td>position</td>\n",
       "      <td>11.0</td>\n",
       "    </tr>\n",
       "    <tr>\n",
       "      <th>required</th>\n",
       "      <td>1484</td>\n",
       "      <td>Top 15</td>\n",
       "      <td>4806</td>\n",
       "      <td>required</td>\n",
       "      <td>12.0</td>\n",
       "    </tr>\n",
       "    <tr>\n",
       "      <th>responsibilities</th>\n",
       "      <td>1469</td>\n",
       "      <td>Top 15</td>\n",
       "      <td>4806</td>\n",
       "      <td>responsibilities</td>\n",
       "      <td>13.0</td>\n",
       "    </tr>\n",
       "    <tr>\n",
       "      <th>rate</th>\n",
       "      <td>1337</td>\n",
       "      <td>Top 15</td>\n",
       "      <td>4806</td>\n",
       "      <td>rate</td>\n",
       "      <td>14.0</td>\n",
       "    </tr>\n",
       "    <tr>\n",
       "      <th>development</th>\n",
       "      <td>1321</td>\n",
       "      <td>Top 15</td>\n",
       "      <td>4806</td>\n",
       "      <td>development</td>\n",
       "      <td>15.0</td>\n",
       "    </tr>\n",
       "    <tr>\n",
       "      <th>role</th>\n",
       "      <td>1312</td>\n",
       "      <td>Top 15</td>\n",
       "      <td>4806</td>\n",
       "      <td>role</td>\n",
       "      <td>16.0</td>\n",
       "    </tr>\n",
       "    <tr>\n",
       "      <th>requirements</th>\n",
       "      <td>1262</td>\n",
       "      <td>Top 15</td>\n",
       "      <td>4806</td>\n",
       "      <td>requirements</td>\n",
       "      <td>17.0</td>\n",
       "    </tr>\n",
       "    <tr>\n",
       "      <th>process</th>\n",
       "      <td>1244</td>\n",
       "      <td>Top 15</td>\n",
       "      <td>4806</td>\n",
       "      <td>process</td>\n",
       "      <td>18.0</td>\n",
       "    </tr>\n",
       "    <tr>\n",
       "      <th>quality</th>\n",
       "      <td>1227</td>\n",
       "      <td>Top 15</td>\n",
       "      <td>4806</td>\n",
       "      <td>quality</td>\n",
       "      <td>19.0</td>\n",
       "    </tr>\n",
       "    <tr>\n",
       "      <th>manager</th>\n",
       "      <td>1214</td>\n",
       "      <td>Top 15</td>\n",
       "      <td>4806</td>\n",
       "      <td>manager</td>\n",
       "      <td>20.0</td>\n",
       "    </tr>\n",
       "    <tr>\n",
       "      <th>responsible</th>\n",
       "      <td>1189</td>\n",
       "      <td>Top 15</td>\n",
       "      <td>4806</td>\n",
       "      <td>responsible</td>\n",
       "      <td>21.0</td>\n",
       "    </tr>\n",
       "    <tr>\n",
       "      <th>must</th>\n",
       "      <td>1171</td>\n",
       "      <td>Top 15</td>\n",
       "      <td>4806</td>\n",
       "      <td>must</td>\n",
       "      <td>22.0</td>\n",
       "    </tr>\n",
       "    <tr>\n",
       "      <th>activities</th>\n",
       "      <td>1163</td>\n",
       "      <td>Top 15</td>\n",
       "      <td>4806</td>\n",
       "      <td>activities</td>\n",
       "      <td>23.0</td>\n",
       "    </tr>\n",
       "    <tr>\n",
       "      <th>projects</th>\n",
       "      <td>1142</td>\n",
       "      <td>Top 15</td>\n",
       "      <td>4806</td>\n",
       "      <td>projects</td>\n",
       "      <td>24.0</td>\n",
       "    </tr>\n",
       "    <tr>\n",
       "      <th>candidate</th>\n",
       "      <td>1128</td>\n",
       "      <td>Top 15</td>\n",
       "      <td>4806</td>\n",
       "      <td>candidate</td>\n",
       "      <td>25.0</td>\n",
       "    </tr>\n",
       "  </tbody>\n",
       "</table>\n",
       "</div>"
      ],
      "text/plain": [
       "                  abs_freq   Title  Observations              Word  Rank\n",
       "project               2791  Top 15          4806           project   1.0\n",
       "work                  2676  Top 15          4806              work   2.0\n",
       "experience            2531  Top 15          4806        experience   3.0\n",
       "business              2310  Top 15          4806          business   4.0\n",
       "support               2300  Top 15          4806           support   5.0\n",
       "team                  1990  Top 15          4806              team   6.0\n",
       "management            1972  Top 15          4806        management   7.0\n",
       "job                   1782  Top 15          4806               job   8.0\n",
       "skills                1686  Top 15          4806            skills   9.0\n",
       "data                  1541  Top 15          4806              data  10.0\n",
       "position              1486  Top 15          4806          position  11.0\n",
       "required              1484  Top 15          4806          required  12.0\n",
       "responsibilities      1469  Top 15          4806  responsibilities  13.0\n",
       "rate                  1337  Top 15          4806              rate  14.0\n",
       "development           1321  Top 15          4806       development  15.0\n",
       "role                  1312  Top 15          4806              role  16.0\n",
       "requirements          1262  Top 15          4806      requirements  17.0\n",
       "process               1244  Top 15          4806           process  18.0\n",
       "quality               1227  Top 15          4806           quality  19.0\n",
       "manager               1214  Top 15          4806           manager  20.0\n",
       "responsible           1189  Top 15          4806       responsible  21.0\n",
       "must                  1171  Top 15          4806              must  22.0\n",
       "activities            1163  Top 15          4806        activities  23.0\n",
       "projects              1142  Top 15          4806          projects  24.0\n",
       "candidate             1128  Top 15          4806         candidate  25.0"
      ]
     },
     "execution_count": 291,
     "metadata": {},
     "output_type": "execute_result"
    }
   ],
   "source": [
    "word_freq_df['Title'] = 'Top 15'\n",
    "word_freq_df['Observations'] = df.shape[0]\n",
    "word_freq_df['Word'] = word_freq_df.index\n",
    "word_freq_df['Rank'] = word_freq_df.abs_freq.rank(method='dense',ascending=False)\n",
    "word_freq_df = word_freq_df[word_freq_df['Rank'] <= 25]"
   ]
  },
  {
   "cell_type": "markdown",
   "metadata": {},
   "source": [
    "## Loop through each Title and build a dataframe, printing the top 25 words for each title"
   ]
  },
  {
   "cell_type": "code",
   "execution_count": 350,
   "metadata": {},
   "outputs": [
    {
     "name": "stdout",
     "output_type": "stream",
     "text": [
      "(837, 4)\n",
      "(959, 4)\n",
      "(301, 4)\n",
      "(409, 4)\n",
      "(275, 4)\n",
      "(260, 4)\n",
      "(317, 4)\n",
      "(210, 4)\n",
      "(140, 4)\n",
      "(66, 4)\n",
      "(344, 4)\n",
      "(270, 4)\n",
      "(315, 4)\n",
      "(63, 4)\n",
      "(40, 4)\n"
     ]
    }
   ],
   "source": [
    "wfd = word_freq_df\n",
    "for i in topn_titles:\n",
    "    pTitle = i\n",
    "    dff = df[df['Title'] == pTitle]\n",
    "    print(dff.shape)\n",
    "\n",
    "    words = pd.Series(dff.jd_tokened.iloc[0])\n",
    "    for j in range(1,dff.shape[0]):\n",
    "        s = pd.Series(dff.jd_tokened.iloc[j])\n",
    "        words = words.append(s,ignore_index=True)\n",
    "\n",
    "    word_freq_f = defaultdict(int)\n",
    "    for text in words:\n",
    "        for word in text.split():\n",
    "            word_freq_f[word] += 1\n",
    "\n",
    "\n",
    "    word_freq_dff = pd.DataFrame.from_dict(word_freq_f, orient='index') \\\n",
    "    .rename(columns={0: 'abs_freq'}) \\\n",
    "    .sort_values('abs_freq', ascending=False)\n",
    "\n",
    "    word_freq_dff = word_freq_dff.head(25)\n",
    "    word_freq_dff['Title'] = pTitle\n",
    "    word_freq_dff['Observations'] = dff.shape[0]\n",
    "    word_freq_dff['Word'] = word_freq_df.index\n",
    "    word_freq_dff['Rank'] = word_freq_df.abs_freq.rank(method='dense',ascending=False)\n",
    "    wfd = wfd.append(word_freq_dff, ignore_index=True)"
   ]
  },
  {
   "cell_type": "code",
   "execution_count": 351,
   "metadata": {},
   "outputs": [
    {
     "data": {
      "text/plain": [
       "(400, 5)"
      ]
     },
     "execution_count": 351,
     "metadata": {},
     "output_type": "execute_result"
    }
   ],
   "source": [
    "wfd.shape"
   ]
  },
  {
   "cell_type": "code",
   "execution_count": 324,
   "metadata": {},
   "outputs": [
    {
     "data": {
      "text/plain": [
       "Index(['Administrative Assistant', 'Project Manager', 'Assembly Worker',\n",
       "       'Business/System Analyst', 'Developer', 'Data Entry Operator',\n",
       "       'Systems/Software Engineer', 'IT Analyst', 'Recruiter',\n",
       "       'Graphic Designer', 'Business Analyst', 'Manufacturing Technician',\n",
       "       'Financial Analyst', 'Sales Manager', 'Design Validation Engineer'],\n",
       "      dtype='object')"
      ]
     },
     "execution_count": 324,
     "metadata": {},
     "output_type": "execute_result"
    }
   ],
   "source": [
    "topn_titles"
   ]
  },
  {
   "cell_type": "code",
   "execution_count": 355,
   "metadata": {},
   "outputs": [],
   "source": [
    "wfd.to_csv(r'C:\\Users\\johd003\\Documents\\GitHub\\data\\req_description_word_freq.csv',index=False)"
   ]
  }
 ],
 "metadata": {
  "kernelspec": {
   "display_name": "Python 3",
   "language": "python",
   "name": "python3"
  },
  "language_info": {
   "codemirror_mode": {
    "name": "ipython",
    "version": 3
   },
   "file_extension": ".py",
   "mimetype": "text/x-python",
   "name": "python",
   "nbconvert_exporter": "python",
   "pygments_lexer": "ipython3",
   "version": "3.7.1"
  }
 },
 "nbformat": 4,
 "nbformat_minor": 2
}
